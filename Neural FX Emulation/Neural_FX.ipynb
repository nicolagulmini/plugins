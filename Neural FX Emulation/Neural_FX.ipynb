{
  "cells": [
    {
      "cell_type": "code",
      "execution_count": 1,
      "metadata": {
        "id": "cq14yTy9zwp9"
      },
      "outputs": [],
      "source": [
        "%%capture\n",
        "!pip install pedalboard\n",
        "!pip install -q keras-tcn --no-dependencies"
      ]
    },
    {
      "cell_type": "code",
      "execution_count": 2,
      "metadata": {
        "id": "OrlG3_lGUMgM"
      },
      "outputs": [],
      "source": [
        "%%capture\n",
        "# download the audio files\n",
        "!wget https://github.com/nicolagulmini/plugins/raw/main/Python/wav/clean.wav\n",
        "!wget https://github.com/nicolagulmini/plugins/raw/main/Python/wav/effect.wav\n",
        "!wget https://github.com/nicolagulmini/plugins/raw/main/Python/wav/loop.wav"
      ]
    },
    {
      "cell_type": "code",
      "execution_count": 3,
      "metadata": {
        "id": "2smStC6vBSI2"
      },
      "outputs": [],
      "source": [
        "import matplotlib.pyplot as plt\n",
        "import sys\n",
        "import numpy as np\n",
        "import tensorflow as tf\n",
        "from tcn import TCN, tcn_full_summary\n",
        "from pedalboard.io import AudioFile\n",
        "from pedalboard import Pedalboard, Reverb\n",
        "import math"
      ]
    },
    {
      "cell_type": "code",
      "execution_count": 4,
      "metadata": {
        "id": "70eef_FX4Z5I"
      },
      "outputs": [],
      "source": [
        "sr = 44100"
      ]
    },
    {
      "cell_type": "code",
      "execution_count": 5,
      "metadata": {
        "colab": {
          "base_uri": "https://localhost:8080/",
          "height": 107
        },
        "id": "yAeVQfHYEFIj",
        "outputId": "55245746-5a8a-44b0-bd2f-f2e844c4a9e7"
      },
      "outputs": [
        {
          "output_type": "stream",
          "name": "stdout",
          "text": [
            "(2, 705600)\n",
            "(2, 705600)\n",
            "(705, 1000, 2)\n",
            "(705, 1000, 2)\n"
          ]
        },
        {
          "output_type": "execute_result",
          "data": {
            "text/plain": [
              "'\\nboard = Pedalboard([Reverb(room_size=0.25)])\\nfxAudio = board(cleanAudio, sr)\\nY_train = processY(fxAudio, N)\\n'"
            ],
            "application/vnd.google.colaboratory.intrinsic+json": {
              "type": "string"
            }
          },
          "metadata": {},
          "execution_count": 5
        }
      ],
      "source": [
        "with AudioFile(\"clean.wav\").resampled_to(sr) as i: cleanAudio_mono = i.read(i.frames)\n",
        "with AudioFile(\"effect.wav\").resampled_to(sr) as i: fxAudio = i.read(i.frames)\n",
        "\n",
        "cleanAudio = np.array([cleanAudio_mono[0], cleanAudio_mono[0]])\n",
        "print(cleanAudio.shape)\n",
        "print(fxAudio.shape)\n",
        "\n",
        "X_train = cleanAudio[:, :705000]\n",
        "X_train = X_train.transpose((1, 0))\n",
        "X_train = X_train.reshape((-1, 1000, 2))\n",
        "\n",
        "Y_train = fxAudio[:, :705000]\n",
        "Y_train = Y_train.transpose((1, 0))\n",
        "Y_train = Y_train.reshape((-1, 1000, 2))\n",
        "\n",
        "print(X_train.shape)\n",
        "print(Y_train.shape)\n",
        "\n",
        "# fxAudio is too difficult, let's try with a simple reverb\n",
        "'''\n",
        "board = Pedalboard([Reverb(room_size=0.25)])\n",
        "fxAudio = board(cleanAudio, sr)\n",
        "Y_train = processY(fxAudio, N)\n",
        "'''"
      ]
    },
    {
      "cell_type": "code",
      "execution_count": 6,
      "metadata": {
        "cellView": "form",
        "id": "VK_sssb5B5WY"
      },
      "outputs": [],
      "source": [
        "# https://github.com/TensorSpeech/TensorflowTTS/blob/master/tensorflow_tts/losses/stft.py\n",
        "\n",
        "#@title Code for custom loss function\n",
        "\n",
        "class TFSpectralConvergence(tf.keras.layers.Layer):\n",
        "    \"\"\"Spectral convergence loss.\"\"\"\n",
        "\n",
        "    def __init__(self):\n",
        "        \"\"\"Initialize.\"\"\"\n",
        "        super().__init__()\n",
        "\n",
        "    def call(self, y_mag, x_mag):\n",
        "        \"\"\"Calculate forward propagation.\n",
        "        Args:\n",
        "            y_mag (Tensor): Magnitude spectrogram of groundtruth signal (B, #frames, #freq_bins).\n",
        "            x_mag (Tensor): Magnitude spectrogram of predicted signal (B, #frames, #freq_bins).\n",
        "        Returns:\n",
        "            Tensor: Spectral convergence loss value.\n",
        "        \"\"\"\n",
        "        return tf.norm(y_mag - x_mag, ord=\"fro\", axis=(-2, -1)) / tf.norm(\n",
        "            y_mag, ord=\"fro\", axis=(-2, -1)\n",
        "        )\n",
        "\n",
        "class TFLogSTFTMagnitude(tf.keras.layers.Layer):\n",
        "    \"\"\"Log STFT magnitude loss module.\"\"\"\n",
        "\n",
        "    def __init__(self):\n",
        "        \"\"\"Initialize.\"\"\"\n",
        "        super().__init__()\n",
        "\n",
        "    def call(self, y_mag, x_mag):\n",
        "        \"\"\"Calculate forward propagation.\n",
        "        Args:\n",
        "            y_mag (Tensor): Magnitude spectrogram of groundtruth signal (B, #frames, #freq_bins).\n",
        "            x_mag (Tensor): Magnitude spectrogram of predicted signal (B, #frames, #freq_bins).\n",
        "        Returns:\n",
        "            Tensor: Spectral convergence loss value.\n",
        "        \"\"\"\n",
        "        return tf.abs(tf.math.log(y_mag+1e-5) - tf.math.log(x_mag+1e-5))\n",
        "\n",
        "class TFSTFT(tf.keras.layers.Layer):\n",
        "    \"\"\"STFT loss module.\"\"\"\n",
        "\n",
        "    def __init__(self, frame_length=600, frame_step=120, fft_length=1024):\n",
        "        \"\"\"Initialize.\"\"\"\n",
        "        super().__init__()\n",
        "        self.frame_length = frame_length\n",
        "        self.frame_step = frame_step\n",
        "        self.fft_length = fft_length\n",
        "        self.spectral_convergenge_loss = TFSpectralConvergence()\n",
        "        self.log_stft_magnitude_loss = TFLogSTFTMagnitude()\n",
        "\n",
        "    def call(self, y, x):\n",
        "        \"\"\"Calculate forward propagation.\n",
        "        Args:\n",
        "            y (Tensor): Groundtruth signal (B, T).\n",
        "            x (Tensor): Predicted signal (B, T).\n",
        "        Returns:\n",
        "            Tensor: Spectral convergence loss value (pre-reduce).\n",
        "            Tensor: Log STFT magnitude loss value (pre-reduce).\n",
        "        \"\"\"\n",
        "        x_mag = tf.abs(\n",
        "            tf.signal.stft(\n",
        "                signals=tf.transpose(x, perm=[0, 2, 1]),\n",
        "                frame_length=self.frame_length,\n",
        "                frame_step=self.frame_step,\n",
        "                fft_length=self.fft_length,\n",
        "            )\n",
        "        )\n",
        "        y_mag = tf.abs(\n",
        "            tf.signal.stft(\n",
        "                signals=tf.transpose(y, perm=[0, 2, 1]),\n",
        "                frame_length=self.frame_length,\n",
        "                frame_step=self.frame_step,\n",
        "                fft_length=self.fft_length,\n",
        "            )\n",
        "        )\n",
        "        # add small number to prevent nan value.\n",
        "        # compatible with pytorch version.\n",
        "        x_mag = tf.clip_by_value(tf.math.sqrt(x_mag ** 2 + 1e-7), 1e-7, 1e3)\n",
        "        y_mag = tf.clip_by_value(tf.math.sqrt(y_mag ** 2 + 1e-7), 1e-7, 1e3)\n",
        "\n",
        "        sc_loss = self.spectral_convergenge_loss(y_mag, x_mag)\n",
        "        mag_loss = self.log_stft_magnitude_loss(y_mag, x_mag)\n",
        "\n",
        "        return sc_loss, mag_loss\n",
        "\n",
        "class TFMultiResolutionSTFT(tf.keras.layers.Layer):\n",
        "    \"\"\"Multi resolution STFT loss module.\"\"\"\n",
        "\n",
        "    def __init__(\n",
        "        self,\n",
        "        fft_lengths=[512, 256, 128], #fft_lengths=[1024, 2048, 512],\n",
        "        frame_lengths=[512, 256, 128], #frame_lengths=[600, 1200, 240],\n",
        "        frame_steps=[120, 240, 50], #frame_steps=[120, 240, 50],\n",
        "    ):\n",
        "        \"\"\"Initialize Multi resolution STFT loss module.\n",
        "        Args:\n",
        "            frame_lengths (list): List of FFT sizes.\n",
        "            frame_steps (list): List of hop sizes.\n",
        "            fft_lengths (list): List of window lengths.\n",
        "        \"\"\"\n",
        "        super().__init__()\n",
        "        assert len(frame_lengths) == len(frame_steps) == len(fft_lengths)\n",
        "        self.stft_losses = []\n",
        "        for frame_length, frame_step, fft_length in zip(\n",
        "            frame_lengths, frame_steps, fft_lengths\n",
        "        ):\n",
        "            self.stft_losses.append(TFSTFT(frame_length, frame_step, fft_length))\n",
        "\n",
        "    def call(self, y, x):\n",
        "        \"\"\"Calculate forward propagation.\n",
        "        Args:\n",
        "            y (Tensor): Groundtruth signal (B, T).\n",
        "            x (Tensor): Predicted signal (B, T).\n",
        "        Returns:\n",
        "            Tensor: Multi resolution spectral convergence loss value.\n",
        "            Tensor: Multi resolution log STFT magnitude loss value.\n",
        "        \"\"\"\n",
        "        sc_loss = 0.0\n",
        "        mag_loss = 0.0\n",
        "        for f in self.stft_losses:\n",
        "            sc_l, mag_l = f(y, x)\n",
        "            sc_loss += tf.reduce_mean(sc_l, axis=list(range(1, len(sc_l.shape))))\n",
        "            mag_loss += tf.reduce_mean(mag_l, axis=list(range(1, len(mag_l.shape))))\n",
        "\n",
        "        sc_loss /= len(self.stft_losses)\n",
        "        mag_loss /= len(self.stft_losses)\n",
        "        return sc_loss, mag_loss"
      ]
    },
    {
      "cell_type": "code",
      "execution_count": 21,
      "metadata": {
        "id": "DiHFWFqv_T49"
      },
      "outputs": [],
      "source": [
        "#@title Model\n",
        "class nnModel:\n",
        "\n",
        "    def __init__(self):\n",
        "\n",
        "        input = tf.keras.Input(shape=(1000, 2))\n",
        "\n",
        "        x = TCN(nb_filters=16,\n",
        "                kernel_size=8,\n",
        "                nb_stacks=16,\n",
        "                dilations=(1, 2, 4, 8, 16),\n",
        "                padding='causal',\n",
        "                use_skip_connections=True,\n",
        "                dropout_rate=0.1,\n",
        "                return_sequences=True,\n",
        "                activation='relu',\n",
        "                kernel_initializer='he_normal',\n",
        "                use_batch_norm=True\n",
        "            )(input)\n",
        "\n",
        "        x = TCN(nb_filters=2,\n",
        "                kernel_size=8,\n",
        "                nb_stacks=4,\n",
        "                padding='causal',\n",
        "                use_skip_connections=True,\n",
        "                dropout_rate=0.1,\n",
        "                return_sequences=True,\n",
        "                activation='relu',\n",
        "                kernel_initializer='he_normal',\n",
        "                use_batch_norm=True\n",
        "            )(x)\n",
        "\n",
        "        def custom_loss(y_true, y_pred):\n",
        "            mr_stft = TFMultiResolutionSTFT()\n",
        "            loss = tf.keras.losses.MeanSquaredError()\n",
        "            t = loss(y_true, y_pred)\n",
        "            sc_loss, mag_loss = mr_stft(y_true, y_pred)\n",
        "            return sc_loss + mag_loss + t\n",
        "\n",
        "        model = tf.keras.models.Model(inputs=input, outputs=x)\n",
        "        model.compile(optimizer='adam', loss=custom_loss,\n",
        "                      metrics=['mse', 'mae'],\n",
        "                      run_eagerly=True)\n",
        "\n",
        "        self.model = model\n",
        "\n",
        "    def getInfo(self):\n",
        "        self.model.summary()\n",
        "\n",
        "    def trainNetwork(self, x, y, batchSize, epochs, verbose=2):\n",
        "        return self.model.fit(x=x, y=y, batch_size=batchSize, epochs=epochs, verbose=verbose)\n",
        "\n",
        "    def predict(self, batchAudioStereo):\n",
        "        res = self.model.predict(batchAudioStereo)\n",
        "        outputL = []\n",
        "        outputR = []\n",
        "        res = res.transpose((0, 2, 1))\n",
        "        for i in range(res.shape[0]):\n",
        "            for sample in res[i, 0]:\n",
        "                outputL.append(sample)\n",
        "            for sample in res[i, 1]:\n",
        "                outputR.append(sample)\n",
        "        return np.array([np.array(outputL), np.array(outputR)])"
      ]
    },
    {
      "cell_type": "code",
      "execution_count": 22,
      "metadata": {
        "colab": {
          "base_uri": "https://localhost:8080/"
        },
        "id": "OwaHqCnM3fS1",
        "outputId": "4744ae04-6d25-498b-cc5d-ab0888878e2e"
      },
      "outputs": [
        {
          "output_type": "stream",
          "name": "stdout",
          "text": [
            "Model: \"model_2\"\n",
            "_________________________________________________________________\n",
            " Layer (type)                Output Shape              Param #   \n",
            "=================================================================\n",
            " input_3 (InputLayer)        [(None, 1000, 2)]         0         \n",
            "                                                                 \n",
            " tcn_4 (TCN)                 (None, 1000, 16)          338736    \n",
            "                                                                 \n",
            " tcn_5 (TCN)                 (None, 1000, 2)           2274      \n",
            "                                                                 \n",
            "=================================================================\n",
            "Total params: 341010 (1.30 MB)\n",
            "Trainable params: 335698 (1.28 MB)\n",
            "Non-trainable params: 5312 (20.75 KB)\n",
            "_________________________________________________________________\n"
          ]
        }
      ],
      "source": [
        "neuralNetwork = nnModel()\n",
        "neuralNetwork.getInfo()"
      ]
    },
    {
      "cell_type": "code",
      "execution_count": 23,
      "metadata": {
        "colab": {
          "base_uri": "https://localhost:8080/"
        },
        "id": "1gDDSVTCWcjl",
        "outputId": "e43f17ef-8656-4c32-cd0b-5fd15b4e9a51"
      },
      "outputs": [
        {
          "output_type": "stream",
          "name": "stdout",
          "text": [
            "Epoch 1/20\n",
            "23/23 - 296s - loss: 239.6030 - mse: 52.6854 - mae: 4.3122 - 296s/epoch - 13s/step\n",
            "Epoch 2/20\n",
            "23/23 - 294s - loss: 107.3963 - mse: 38.8601 - mae: 1.7362 - 294s/epoch - 13s/step\n",
            "Epoch 3/20\n",
            "23/23 - 304s - loss: 55.8510 - mse: 30.8019 - mae: 1.2399 - 304s/epoch - 13s/step\n",
            "Epoch 4/20\n",
            "23/23 - 300s - loss: 21.0029 - mse: 5.1495 - mae: 0.4101 - 300s/epoch - 13s/step\n",
            "Epoch 5/20\n",
            "23/23 - 304s - loss: 14.0218 - mse: 1.9118 - mae: 0.2434 - 304s/epoch - 13s/step\n",
            "Epoch 6/20\n",
            "23/23 - 301s - loss: 11.6720 - mse: 0.4611 - mae: 0.1669 - 301s/epoch - 13s/step\n",
            "Epoch 7/20\n",
            "23/23 - 293s - loss: 12.9020 - mse: 2.0822 - mae: 0.2066 - 293s/epoch - 13s/step\n",
            "Epoch 8/20\n",
            "23/23 - 296s - loss: 8.3628 - mse: 0.4543 - mae: 0.1629 - 296s/epoch - 13s/step\n",
            "Epoch 9/20\n",
            "23/23 - 300s - loss: 7.2237 - mse: 0.4277 - mae: 0.1579 - 300s/epoch - 13s/step\n",
            "Epoch 10/20\n",
            "23/23 - 296s - loss: 7.2088 - mse: 0.4171 - mae: 0.1600 - 296s/epoch - 13s/step\n",
            "Epoch 11/20\n",
            "23/23 - 297s - loss: 7.5898 - mse: 0.4259 - mae: 0.1489 - 297s/epoch - 13s/step\n",
            "Epoch 12/20\n",
            "23/23 - 295s - loss: 6.8818 - mse: 0.3955 - mae: 0.1521 - 295s/epoch - 13s/step\n",
            "Epoch 13/20\n",
            "23/23 - 288s - loss: 7.1082 - mse: 0.3561 - mae: 0.1325 - 288s/epoch - 13s/step\n",
            "Epoch 14/20\n",
            "23/23 - 290s - loss: 6.3852 - mse: 0.3627 - mae: 0.1371 - 290s/epoch - 13s/step\n",
            "Epoch 15/20\n",
            "23/23 - 290s - loss: 6.5602 - mse: 0.4063 - mae: 0.1372 - 290s/epoch - 13s/step\n",
            "Epoch 16/20\n",
            "23/23 - 291s - loss: 5.7881 - mse: 0.3288 - mae: 0.1204 - 291s/epoch - 13s/step\n",
            "Epoch 17/20\n",
            "23/23 - 313s - loss: 7.3629 - mse: 0.3932 - mae: 0.1310 - 313s/epoch - 14s/step\n",
            "Epoch 18/20\n",
            "23/23 - 292s - loss: 6.6107 - mse: 0.3863 - mae: 0.1369 - 292s/epoch - 13s/step\n",
            "Epoch 19/20\n",
            "23/23 - 291s - loss: 8.1502 - mse: 0.3895 - mae: 0.1358 - 291s/epoch - 13s/step\n",
            "Epoch 20/20\n",
            "23/23 - 291s - loss: 6.2346 - mse: 0.3631 - mae: 0.1286 - 291s/epoch - 13s/step\n"
          ]
        }
      ],
      "source": [
        "EPOCHS = 20\n",
        "history = neuralNetwork.trainNetwork(X_train, Y_train, 32, EPOCHS)"
      ]
    },
    {
      "cell_type": "code",
      "execution_count": 24,
      "metadata": {
        "colab": {
          "base_uri": "https://localhost:8080/",
          "height": 433
        },
        "id": "bep3gZgp-Q1z",
        "outputId": "b3dbf241-e05b-4366-a038-5f1f63070507"
      },
      "outputs": [
        {
          "output_type": "display_data",
          "data": {
            "text/plain": [
              "<Figure size 640x480 with 1 Axes>"
            ],
            "image/png": "[encoded data removed]"
          },
          "metadata": {}
        }
      ],
      "source": [
        "plt.plot(range(EPOCHS), history.history['mse'])\n",
        "plt.plot(range(EPOCHS), history.history['mae'])\n",
        "plt.plot(range(EPOCHS), history.history['loss'])\n",
        "plt.show()"
      ]
    },
    {
      "cell_type": "code",
      "execution_count": 25,
      "metadata": {
        "colab": {
          "base_uri": "https://localhost:8080/"
        },
        "id": "Ug8QTZy23ffk",
        "outputId": "00b9a6cf-bf9a-4456-c7f4-52cd8a550ccd"
      },
      "outputs": [
        {
          "output_type": "stream",
          "name": "stdout",
          "text": [
            "12/12 [==============================] - 38s 3s/step\n"
          ]
        }
      ],
      "source": [
        "with AudioFile(\"loop.wav\").resampled_to(sr) as i: loop_mono = i.read(i.frames)\n",
        "loop = np.array([loop_mono[0], loop_mono[0]])\n",
        "\n",
        "new_loop = loop[:,:360000]\n",
        "new_loop = new_loop.transpose((1, 0))\n",
        "new_loop = new_loop.reshape((-1, 1000, 2))\n",
        "\n",
        "output = neuralNetwork.predict(new_loop)\n",
        "\n",
        "with AudioFile('processed-output.wav', 'w', sr, output.shape[0]) as f: f.write(output)"
      ]
    }
  ],
  "metadata": {
    "colab": {
      "provenance": []
    },
    "kernelspec": {
      "display_name": "Python 3",
      "name": "python3"
    },
    "language_info": {
      "name": "python"
    }
  },
  "nbformat": 4,
  "nbformat_minor": 0
}