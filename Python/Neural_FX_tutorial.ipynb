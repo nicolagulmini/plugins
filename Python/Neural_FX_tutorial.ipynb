{
  "nbformat": 4,
  "nbformat_minor": 0,
  "metadata": {
    "colab": {
      "provenance": []
    },
    "kernelspec": {
      "name": "python3",
      "display_name": "Python 3"
    },
    "language_info": {
      "name": "python"
    }
  },
  "cells": [
    {
      "cell_type": "code",
      "source": [
        "!pip install pedalboard\n",
        "!pip install -q keras-tcn --no-dependencies"
      ],
      "metadata": {
        "colab": {
          "base_uri": "https://localhost:8080/"
        },
        "id": "cq14yTy9zwp9",
        "outputId": "95cc452c-3a10-4a5e-8598-480390bd9ae3"
      },
      "execution_count": 8,
      "outputs": [
        {
          "output_type": "stream",
          "name": "stdout",
          "text": [
            "Requirement already satisfied: pedalboard in /usr/local/lib/python3.10/dist-packages (0.9.3)\n",
            "Requirement already satisfied: numpy in /usr/local/lib/python3.10/dist-packages (from pedalboard) (1.25.2)\n"
          ]
        }
      ]
    },
    {
      "cell_type": "code",
      "execution_count": 9,
      "metadata": {
        "id": "2smStC6vBSI2"
      },
      "outputs": [],
      "source": [
        "import matplotlib.pyplot as plt\n",
        "import numpy as np\n",
        "import tensorflow as tf\n",
        "from tcn import TCN, tcn_full_summary\n",
        "from pedalboard.io import AudioFile\n",
        "from pedalboard import Pedalboard, Reverb\n",
        "import math"
      ]
    },
    {
      "cell_type": "code",
      "source": [
        "sr = 44100"
      ],
      "metadata": {
        "id": "70eef_FX4Z5I"
      },
      "execution_count": 10,
      "outputs": []
    },
    {
      "cell_type": "code",
      "source": [
        "with AudioFile(\"clean.wav\").resampled_to(sr) as i: cleanAudio_mono = i.read(i.frames)\n",
        "with AudioFile(\"effect.wav\").resampled_to(sr) as i: fxAudio = i.read(i.frames)\n",
        "\n",
        "cleanAudio = np.array([cleanAudio_mono[0], cleanAudio_mono[0]])\n",
        "print(cleanAudio.shape)\n",
        "print(fxAudio.shape)\n",
        "\n",
        "X_train = cleanAudio[:, :705000]\n",
        "X_train = X_train.transpose((1, 0))\n",
        "X_train = X_train.reshape((-1, 1000, 2))\n",
        "\n",
        "Y_train = fxAudio[:, :705000]\n",
        "Y_train = Y_train.transpose((1, 0))\n",
        "Y_train = Y_train.reshape((-1, 1000, 2))\n",
        "\n",
        "print(X_train.shape)\n",
        "print(Y_train.shape)\n",
        "\n",
        "# fxAudio is too difficult, let's try with a simple reverb\n",
        "'''\n",
        "board = Pedalboard([Reverb(room_size=0.25)])\n",
        "fxAudio = board(cleanAudio, sr)\n",
        "Y_train = processY(fxAudio, N)\n",
        "'''"
      ],
      "metadata": {
        "colab": {
          "base_uri": "https://localhost:8080/",
          "height": 105
        },
        "id": "yAeVQfHYEFIj",
        "outputId": "b0e4da13-272e-4014-b374-44c925d03f7a"
      },
      "execution_count": 21,
      "outputs": [
        {
          "output_type": "stream",
          "name": "stdout",
          "text": [
            "(2, 705600)\n",
            "(2, 705600)\n",
            "(705, 1000, 2)\n",
            "(705, 1000, 2)\n"
          ]
        },
        {
          "output_type": "execute_result",
          "data": {
            "text/plain": [
              "'\\nboard = Pedalboard([Reverb(room_size=0.25)])\\nfxAudio = board(cleanAudio, sr)\\nY_train = processY(fxAudio, N)\\n'"
            ],
            "application/vnd.google.colaboratory.intrinsic+json": {
              "type": "string"
            }
          },
          "metadata": {},
          "execution_count": 21
        }
      ]
    },
    {
      "cell_type": "code",
      "source": [
        "class nnModel:\n",
        "\n",
        "    def __init__(self):\n",
        "\n",
        "        input = tf.keras.Input(shape=(1000, 2))\n",
        "\n",
        "        x = TCN(nb_filters=32,\n",
        "                kernel_size=9,\n",
        "                nb_stacks=32,\n",
        "                dilations=(1, 2, 4, 8, 16, 32),\n",
        "                padding='causal',\n",
        "                use_skip_connections=True,\n",
        "                dropout_rate=0.1,\n",
        "                return_sequences=True,\n",
        "                activation='relu',\n",
        "                kernel_initializer='he_normal'\n",
        "            )(input)\n",
        "\n",
        "        x = TCN(nb_filters=2,\n",
        "                kernel_size=9,\n",
        "                nb_stacks=3,\n",
        "                padding='causal',\n",
        "                use_skip_connections=True,\n",
        "                return_sequences=True,\n",
        "                activation='relu',\n",
        "                kernel_initializer='he_normal'\n",
        "            )(input)\n",
        "\n",
        "        model = tf.keras.models.Model(inputs=input, outputs=x)\n",
        "        model.compile(optimizer='adam', loss='mse', metrics=['mse', 'mae'])\n",
        "\n",
        "        self.model = model\n",
        "\n",
        "    def getInfo(self):\n",
        "        self.model.summary()\n",
        "\n",
        "    def trainNetwork(self, x, y, batchSize, epochs, verbose=1):\n",
        "        return self.model.fit(x=x, y=y, batch_size=batchSize, epochs=epochs, verbose=verbose)\n",
        "\n",
        "    def predict(self, batchAudioStereo):\n",
        "        res = self.model.predict(batchAudioStereo)\n",
        "        outputL = []\n",
        "        outputR = []\n",
        "        res = res.transpose((0, 2, 1))\n",
        "        for i in range(res.shape[0]):\n",
        "            for sample in res[i, 0]:\n",
        "                outputL.append(sample)\n",
        "            for sample in res[i, 1]:\n",
        "                outputR.append(sample)\n",
        "        return np.array([np.array(outputL), np.array(outputR)])"
      ],
      "metadata": {
        "id": "DiHFWFqv_T49"
      },
      "execution_count": 42,
      "outputs": []
    },
    {
      "cell_type": "code",
      "source": [
        "neuralNetwork = nnModel()\n",
        "neuralNetwork.getInfo()"
      ],
      "metadata": {
        "colab": {
          "base_uri": "https://localhost:8080/"
        },
        "id": "OwaHqCnM3fS1",
        "outputId": "fa3fa1d3-a850-471a-bfea-fd926fd73dea"
      },
      "execution_count": 43,
      "outputs": [
        {
          "output_type": "stream",
          "name": "stdout",
          "text": [
            "Model: \"model_6\"\n",
            "_________________________________________________________________\n",
            " Layer (type)                Output Shape              Param #   \n",
            "=================================================================\n",
            " input_7 (InputLayer)        [(None, 1000, 2)]         0         \n",
            "                                                                 \n",
            " tcn_9 (TCN)                 (None, 1000, 2)           1368      \n",
            "                                                                 \n",
            "=================================================================\n",
            "Total params: 1368 (5.34 KB)\n",
            "Trainable params: 1368 (5.34 KB)\n",
            "Non-trainable params: 0 (0.00 Byte)\n",
            "_________________________________________________________________\n"
          ]
        }
      ]
    },
    {
      "cell_type": "code",
      "source": [
        "EPOCHS = 10\n",
        "history = neuralNetwork.trainNetwork(X_train, Y_train, 32, EPOCHS)"
      ],
      "metadata": {
        "colab": {
          "base_uri": "https://localhost:8080/"
        },
        "id": "1gDDSVTCWcjl",
        "outputId": "4c81304e-b009-4bce-9dfc-52a520fb83f1"
      },
      "execution_count": 44,
      "outputs": [
        {
          "output_type": "stream",
          "name": "stdout",
          "text": [
            "Epoch 1/10\n",
            "23/23 [==============================] - 16s 261ms/step - loss: 39.6986 - mse: 39.6986 - mae: 2.3119\n",
            "Epoch 2/10\n",
            "23/23 [==============================] - 6s 271ms/step - loss: 2.2495 - mse: 2.2495 - mae: 0.3635\n",
            "Epoch 3/10\n",
            "23/23 [==============================] - 6s 265ms/step - loss: 1.4791 - mse: 1.4791 - mae: 0.2652\n",
            "Epoch 4/10\n",
            "23/23 [==============================] - 6s 261ms/step - loss: 1.1166 - mse: 1.1166 - mae: 0.2163\n",
            "Epoch 5/10\n",
            "23/23 [==============================] - 7s 275ms/step - loss: 0.6569 - mse: 0.6569 - mae: 0.1794\n",
            "Epoch 6/10\n",
            "23/23 [==============================] - 6s 248ms/step - loss: 0.3821 - mse: 0.3821 - mae: 0.1566\n",
            "Epoch 7/10\n",
            "23/23 [==============================] - 7s 287ms/step - loss: 0.3296 - mse: 0.3296 - mae: 0.1473\n",
            "Epoch 8/10\n",
            "23/23 [==============================] - 6s 246ms/step - loss: 0.3039 - mse: 0.3039 - mae: 0.1401\n",
            "Epoch 9/10\n",
            "23/23 [==============================] - 7s 293ms/step - loss: 0.2794 - mse: 0.2794 - mae: 0.1332\n",
            "Epoch 10/10\n",
            "23/23 [==============================] - 6s 246ms/step - loss: 0.2581 - mse: 0.2581 - mae: 0.1270\n"
          ]
        }
      ]
    },
    {
      "cell_type": "code",
      "source": [
        "plt.plot(range(EPOCHS), history.history['mse'])\n",
        "plt.plot(range(EPOCHS), history.history['mae'])\n",
        "plt.show()"
      ],
      "metadata": {
        "colab": {
          "base_uri": "https://localhost:8080/",
          "height": 430
        },
        "id": "bep3gZgp-Q1z",
        "outputId": "b8a4b530-c60c-470b-9b38-95bc87dc1e2b"
      },
      "execution_count": 45,
      "outputs": [
        {
          "output_type": "display_data",
          "data": {
            "text/plain": [
              "<Figure size 640x480 with 1 Axes>"
            ],
            "image/png": "[encoded data removed]"
          },
          "metadata": {}
        }
      ]
    },
    {
      "cell_type": "code",
      "source": [
        "with AudioFile(\"loop.wav\").resampled_to(sr) as i: loop_mono = i.read(i.frames)\n",
        "loop = np.array([loop_mono[0], loop_mono[0]])\n",
        "#loop = processSequenceToBatch(loop, N, M)\n",
        "\n",
        "new_loop = loop[:,:360000]\n",
        "new_loop = new_loop.transpose((1, 0))\n",
        "new_loop = new_loop.reshape((-1, 1000, 2))\n",
        "\n",
        "output = neuralNetwork.predict(new_loop)\n",
        "\n",
        "with AudioFile('processed-output.wav', 'w', sr, output.shape[0]) as f: f.write(output)"
      ],
      "metadata": {
        "colab": {
          "base_uri": "https://localhost:8080/"
        },
        "id": "Ug8QTZy23ffk",
        "outputId": "5481016f-8e71-4dd3-ebe8-6ea0c665a180"
      },
      "execution_count": 46,
      "outputs": [
        {
          "output_type": "stream",
          "name": "stdout",
          "text": [
            "12/12 [==============================] - 2s 77ms/step\n"
          ]
        }
      ]
    }
  ]
}